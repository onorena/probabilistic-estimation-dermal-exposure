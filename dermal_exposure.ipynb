{
 "cells": [
  {
   "cell_type": "markdown",
   "id": "ba2df7c9",
   "metadata": {},
   "source": [
    "# Estimación probabilística de la dosis de exposición dérmica\n",
    "\n",
    "\n",
    "## Estimación de la concentración de la sustancia de interés en la solución a considerar"
   ]
  },
  {
   "cell_type": "code",
   "execution_count": 1,
   "id": "5467b29e",
   "metadata": {},
   "outputs": [
    {
     "data": {
      "application/vnd.jupyter.widget-view+json": {
       "model_id": "4a04268b67e74f80b05e4b83f793ba07",
       "version_major": 2,
       "version_minor": 0
      },
      "text/plain": [
       "interactive(children=(FloatSlider(value=0.07, description='mean', max=10.0, step=0.01), FloatSlider(value=0.07…"
      ]
     },
     "metadata": {},
     "output_type": "display_data"
    }
   ],
   "source": [
    "import numpy as np \n",
    "import pandas as pd\n",
    "import random\n",
    "import matplotlib.pyplot as plt\n",
    "from scipy.stats import lognorm\n",
    "from scipy.stats import iqr\n",
    "import ipywidgets as widgets\n",
    "from IPython.display import display\n",
    "from IPython.display import clear_output\n",
    "%matplotlib inline \n",
    "\n",
    "\n",
    "\n",
    "dtcnc = []\n",
    "\n",
    "# Define the function to be plotted\n",
    "def plot_function(mean, stdev):\n",
    "    global dtcnc\n",
    "    phi = (stdev ** 2 + mean ** 2) ** 0.5\n",
    "    mu = np.log(mean ** 2 / phi)\n",
    "    sigma = (np.log(phi ** 2 / mean ** 2)) ** 0.5\n",
    "    dtcnc = np.random.lognormal(mu, sigma , 5000)\n",
    "    # mu, sigma, n= lognorm.fit(data)\n",
    "    plt.figure(figsize=(10,8))\n",
    "    plt.hist(dtcnc, bins=30, density=True, alpha=0.5, color=\"b\")\n",
    "    # Plot the PDF.\n",
    "    xmin, xmax = plt.xlim()\n",
    "    x = np.linspace(xmin, xmax, 1000)\n",
    "    p = lognorm.pdf(x = x, scale = mean, s = sigma)\n",
    "    plt.plot(x, p, 'k', linewidth=2)\n",
    "    plt.ylabel('Densidad de probabilidad')\n",
    "    plt.xlabel('mg/cm$^{3}$', y=0.05)\n",
    "    plt.savefig('log_normal_sln.png', bbox_inches='tight', dpi=300)\n",
    "    plt.show()\n",
    "\n",
    "# Define the slider widgets\n",
    "slider_mean = widgets.FloatSlider(min=0, max=10, step=0.01, value=0.07)\n",
    "slider_stdev = widgets.FloatSlider(min=0, max=10, step=0.01, value=0.07*(1.125/1.07))\n",
    "\n",
    "# Create the interactive plot\n",
    "interactive_plot = widgets.interactive(plot_function, mean=slider_mean, stdev=slider_stdev)\n",
    "display(interactive_plot)\n",
    "dtcnc = interactive_plot.result"
   ]
  },
  {
   "cell_type": "markdown",
   "id": "77c2d0e5",
   "metadata": {},
   "source": [
    "## Estimación del coeficiente de permeabilidad dérmica\n",
    "\n",
    "*Ecuación extraida del Risk assessment guidance for superfund volume I: Human health evaluaction manual (Part E, supplemental guidance for dermal risk assessment. A.1.1 Estimation of Kp for organic compounds)*\n",
    "\n",
    "$$ \n",
    "\\begin{align}\n",
    "  log(Kp) = -2.80+(0.66*log(Kw)-(0.0056*mw)\n",
    "\\end{align} \n",
    "$$\n",
    "$$\n",
    "\\begin{align}\n",
    "  C_{permeabilidad} = 10^{log(Kp)}\n",
    "\\end{align} \n",
    "$$"
   ]
  },
  {
   "cell_type": "code",
   "execution_count": 2,
   "id": "a1f1d1ac",
   "metadata": {},
   "outputs": [
    {
     "data": {
      "application/vnd.jupyter.widget-view+json": {
       "model_id": "25e141bf33f34e5897eb84de687ecdf0",
       "version_major": 2,
       "version_minor": 0
      },
      "text/plain": [
       "VBox(children=(FloatSlider(value=3.4, description='lgkw', min=-10.0), FloatSlider(value=650.7, description='mw…"
      ]
     },
     "metadata": {},
     "output_type": "display_data"
    }
   ],
   "source": [
    "def lgkp(lgkw, mw):\n",
    "    logKp = -2.80+(0.66*lgkw)-(0.0056*mw)\n",
    "    prmcf = 10**(logKp)\n",
    "    return prmcf\n",
    "\n",
    "slider_lgkw1 = widgets.FloatSlider(description='lgkw', min=-10, step=0.1, value=3.4)\n",
    "slider_mw1 = widgets.FloatSlider(description='mw', min=0, max=10000, step=0.1, value=650.7)\n",
    "out = widgets.Output()\n",
    "\n",
    "def update(change):\n",
    "    with out:\n",
    "        out.clear_output()\n",
    "        prmcf = lgkp(slider_lgkw1.value, slider_mw1.value)\n",
    "        print(\"Coeficiente de permeabilidad dérmica de la sustancia:\", prmcf)\n",
    "\n",
    "slider_lgkw1.observe(update, 'value')\n",
    "slider_mw1.observe(update, 'value')\n",
    "\n",
    "display(widgets.VBox([slider_lgkw1, slider_mw1, out]))"
   ]
  },
  {
   "cell_type": "code",
   "execution_count": 3,
   "id": "90fb5f1d",
   "metadata": {},
   "outputs": [],
   "source": [
    "areakde = pd.read_csv('../28022023/areakde.csv').loc[:, '0'].values"
   ]
  },
  {
   "cell_type": "code",
   "execution_count": 4,
   "id": "f034d160",
   "metadata": {},
   "outputs": [],
   "source": [
    "pesokde = pd.read_csv('../28022023/pesokde.csv').loc[:, '0'].values"
   ]
  },
  {
   "cell_type": "markdown",
   "id": "44dfe6c3",
   "metadata": {},
   "source": [
    "## Resultados de la estimación probablística de las dosis de exposición mediante el uso del método de Monte Carlo\n",
    "\n",
    "*Distribución de la concentración de la sustancia de interés en la solución a considerar; distribución estadística de las dosis de exposición y diagrama de cajas (boxplot) de esas dosis de exposición. Resaltado en rojo se encuentra el percentil 97.5 de la dosis de exposición*"
   ]
  },
  {
   "cell_type": "code",
   "execution_count": 5,
   "id": "4f405480",
   "metadata": {
    "scrolled": true
   },
   "outputs": [
    {
     "data": {
      "application/vnd.jupyter.widget-view+json": {
       "model_id": "34bd9f14c9124bcdac1a0922b647465e",
       "version_major": 2,
       "version_minor": 0
      },
      "text/plain": [
       "interactive(children=(FloatSlider(value=0.07, description='mean', max=10.0, step=0.01), FloatSlider(value=0.07…"
      ]
     },
     "metadata": {},
     "output_type": "display_data"
    }
   ],
   "source": [
    "def hstgrm(xpdrm, bins, xlim):\n",
    "    plt.figure(figsize=(10,8))\n",
    "    plt.xlim(xlim)\n",
    "    plt.hist(xpdrm, density=True, bins=bins)  \n",
    "    plt.ylabel('Densidad de probabilidad')\n",
    "    plt.xlabel('mg/kg·día');\n",
    "    plt.axvline(x = np.percentile(xpdrm, 50), linewidth=1, color='r', linestyle=':')\n",
    "    plt.axvline(x = np.percentile(xpdrm, 2.5), linewidth=1, color='r', linestyle='--')\n",
    "    plt.axvline(x = np.percentile(xpdrm, 97.5), linewidth=1, color='r', linestyle='dashed')\n",
    "    plt.text((np.percentile(xpdrm, 97.5)+0.00005*iqr(xpdrm)), len(xpdrm)/sum(xpdrm), 'P97.5 = '+np.format_float_scientific(np.percentile(xpdrm, 97.5), precision=2), rotation=90, color='red', verticalalignment='center')\n",
    "    plt.savefig('exporal_dermica.png', bbox_inches='tight', dpi=300)\n",
    "    plt.show()\n",
    "    \n",
    "def montecarlo(prcrdrmxpt, prcbsrdrm, dtcnc, lgkw, mw, tm, N):\n",
    "    global prmcf\n",
    "    random_concsolap = np.random.choice(dtcnc, size=N)\n",
    "    random_ardrmc = np.random.choice(areakde, size=N)\n",
    "    random_peso = np.random.choice(pesokde, size=N)\n",
    "    prmcf = lgkp(lgkw, mw)\n",
    "    expderm = (((random_concsolap*random_ardrmc*prcrdrmxpt)*(prcbsrdrm*prmcf*tm))/random_peso)\n",
    "    return expderm\n",
    "\n",
    "def hstgrm_wrapper(prcrdrmxpt, prcbsrdrm, tm, bins):\n",
    "    global dtcnc, prmcf\n",
    "    xpdrm = montecarlo(prcrdrmxpt, prcbsrdrm, dtcnc, slider_lgkw.value, slider_mw.value, tm, 10000)\n",
    "    xlim = (0, np.percentile(xpdrm, 97.5)+iqr(xpdrm)+(0.01*iqr(xpdrm)))\n",
    "    plt.clf()\n",
    "    plt.figure(figsize=(10,8))\n",
    "    hstgrm(xpdrm, bins, xlim)\n",
    "    plt.figure(figsize=(10,8))\n",
    "    plt.boxplot(np.array(xpdrm)[np.array(xpdrm < np.percentile(xpdrm, 97.5)+iqr(xpdrm))], vert=False, patch_artist=True)\n",
    "    plt.xlabel('mg/kg·día')\n",
    "    plt.yticks([1], [''])\n",
    "    plt.axvline(x = np.quantile(xpdrm, 0.975) , linewidth=1, color='r', linestyle='--')\n",
    "    plt.text((np.percentile(xpdrm, 97.5)+0.000022), 1.125, 'P97.5 = '+np.format_float_scientific(np.percentile(xpdrm, 97.5), precision=2), color='red', rotation=90)\n",
    "    plt.xlim(xlim)\n",
    "    plt.savefig('boxplot_dermica.png', bbox_inches='tight', dpi=300)\n",
    "    plt.show()\n",
    "    \n",
    "slider_mean = widgets.FloatSlider(min=0, max=10, step=0.01, value=0.07)\n",
    "slider_stdev = widgets.FloatSlider(min=0, max=10, step=0.01, value=0.07*(1.125/1.07))\n",
    "slider_prcrdrmxpt = widgets.FloatSlider(min=0, max=1, step=0.01, value=0.33)\n",
    "slider_prcbsrdrm = widgets.FloatText(min=0.000001, max=1.0, step=0.01, value=0.039)\n",
    "slider_lgkw = widgets.FloatSlider(description='lgkw', min=-10, step=0.1, value=3.4)\n",
    "slider_mw = widgets.FloatSlider(description='mw', min=0, max=10000, step=0.1, value=650.7)\n",
    "slider_tm = widgets.FloatSlider(min=0, max=24, value=24)\n",
    "slider_bins = widgets.IntSlider(min=1, max=10000, step=1, value=1000)\n",
    "\n",
    "def interactive_plot_func(mean, stdev, prcrdrmxpt, prcbsrdrm, lgkw, mw, tm, bins):\n",
    "    plot_function(mean, stdev);\n",
    "    hstgrm_wrapper(prcrdrmxpt, prcbsrdrm, tm, bins);\n",
    "\n",
    "interactive_plot = widgets.interactive(interactive_plot_func, \n",
    "                                       mean=slider_mean, \n",
    "                                       stdev=slider_stdev,\n",
    "                                       prcrdrmxpt=slider_prcrdrmxpt,\n",
    "                                       prcbsrdrm=slider_prcbsrdrm,\n",
    "                                       lgkw=slider_lgkw,\n",
    "                                       mw=slider_mw,\n",
    "                                       tm=slider_tm,\n",
    "                                       bins=slider_bins)\n",
    "display(interactive_plot)"
   ]
  }
 ],
 "metadata": {
  "kernelspec": {
   "display_name": "Python 3 (ipykernel)",
   "language": "python",
   "name": "python3"
  },
  "language_info": {
   "codemirror_mode": {
    "name": "ipython",
    "version": 3
   },
   "file_extension": ".py",
   "mimetype": "text/x-python",
   "name": "python",
   "nbconvert_exporter": "python",
   "pygments_lexer": "ipython3",
   "version": "3.11.0"
  }
 },
 "nbformat": 4,
 "nbformat_minor": 5
}
